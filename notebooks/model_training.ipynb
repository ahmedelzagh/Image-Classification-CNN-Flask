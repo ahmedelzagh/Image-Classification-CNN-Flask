{
 "cells": [
  {
   "cell_type": "markdown",
   "id": "08fcaee7",
   "metadata": {},
   "source": [
    "# Import Libraries\n",
    "\n",
    "This section imports the necessary libraries for building and training the CNN model, as well as for data visualization and preprocessing.\n"
   ]
  },
  {
   "cell_type": "code",
   "execution_count": 15,
   "id": "9eae307b",
   "metadata": {},
   "outputs": [],
   "source": [
    "import tensorflow as tf\n",
    "from tensorflow.keras.layers import Input,Dense,Flatten,Conv2D,MaxPooling2D\n",
    "from tensorflow.keras import datasets,models,layers\n",
    "from tensorflow.keras.datasets import cifar10\n",
    "import seaborn as sns\n",
    "import matplotlib.pyplot as plt\n",
    "import numpy as np"
   ]
  },
  {
   "cell_type": "markdown",
   "id": "ff4818e7",
   "metadata": {},
   "source": [
    "# Load CIFAR-10 Dataset\n",
    "\n",
    "Here, the CIFAR-10 dataset is loaded and split into training and testing sets.\n"
   ]
  },
  {
   "cell_type": "code",
   "execution_count": 16,
   "id": "5c4ef980",
   "metadata": {},
   "outputs": [],
   "source": [
    "(x_train,y_train),(x_test,y_test)=cifar10.load_data()"
   ]
  },
  {
   "cell_type": "markdown",
   "id": "c6830d72",
   "metadata": {},
   "source": [
    "# Inspect Dataset Shapes\n",
    "\n",
    "This section checks the shapes of the training and testing datasets to understand their dimensions.\n"
   ]
  },
  {
   "cell_type": "code",
   "execution_count": null,
   "id": "2248dac6",
   "metadata": {},
   "outputs": [],
   "source": [
    "x_train.shape"
   ]
  },
  {
   "cell_type": "code",
   "execution_count": null,
   "id": "99102980",
   "metadata": {},
   "outputs": [],
   "source": [
    "x_test.shape"
   ]
  },
  {
   "cell_type": "markdown",
   "id": "f804b106",
   "metadata": {},
   "source": [
    "# Preview Labels\n",
    "\n",
    "The first few labels of the training dataset are displayed to understand the target variable.\n"
   ]
  },
  {
   "cell_type": "code",
   "execution_count": null,
   "id": "ef12c25b",
   "metadata": {},
   "outputs": [],
   "source": [
    "y_train[:5]"
   ]
  },
  {
   "cell_type": "markdown",
   "id": "a0b00eb3",
   "metadata": {},
   "source": [
    "# Reshape Labels\n",
    "\n",
    "The labels are reshaped to a 1D array for compatibility with the model.\n"
   ]
  },
  {
   "cell_type": "code",
   "execution_count": null,
   "id": "641d65e3",
   "metadata": {},
   "outputs": [],
   "source": [
    "y_train=y_train.reshape(-1,)\n",
    "y_train[:5]"
   ]
  },
  {
   "cell_type": "code",
   "execution_count": 21,
   "id": "498585ee",
   "metadata": {},
   "outputs": [],
   "source": [
    "y_test=y_test.reshape(-1,)\n"
   ]
  },
  {
   "cell_type": "markdown",
   "id": "c99a5a48",
   "metadata": {},
   "source": [
    "# Define Class Names\n",
    "\n",
    "A list of class names corresponding to the CIFAR-10 dataset categories is defined.\n"
   ]
  },
  {
   "cell_type": "code",
   "execution_count": 22,
   "id": "1bdc5654",
   "metadata": {},
   "outputs": [],
   "source": [
    "classes=['airplane','automobile','bird','cat','deer','dog','frog','horse','ship','trunk']"
   ]
  },
  {
   "cell_type": "markdown",
   "id": "5d6de05c",
   "metadata": {},
   "source": [
    "# Visualize Sample Images\n",
    "\n",
    "A helper function is defined to visualize images along with their labels, and a few sample images are displayed.\n"
   ]
  },
  {
   "cell_type": "code",
   "execution_count": 23,
   "id": "2564878c",
   "metadata": {},
   "outputs": [],
   "source": [
    "def show_image(x,y,index):\n",
    "    plt.figure(figsize=(9,2))\n",
    "    plt.imshow(x[index])\n",
    "    plt.xlabel(classes[y[index]])"
   ]
  },
  {
   "cell_type": "code",
   "execution_count": null,
   "id": "d1be294f",
   "metadata": {},
   "outputs": [],
   "source": [
    "show_image(x_train,y_train,700)"
   ]
  },
  {
   "cell_type": "code",
   "execution_count": null,
   "id": "856f0d9b",
   "metadata": {},
   "outputs": [],
   "source": [
    "show_image(x_train,y_train,6)"
   ]
  },
  {
   "cell_type": "markdown",
   "id": "913a39b0",
   "metadata": {},
   "source": [
    "# Normalize Dataset\n",
    "\n",
    "The pixel values of the images are normalized to the range [0, 1] for better model performance.\n"
   ]
  },
  {
   "cell_type": "code",
   "execution_count": 26,
   "id": "38a4e88d",
   "metadata": {},
   "outputs": [],
   "source": [
    "x_test=x_test/255.0\n",
    "x_train=x_train/255.0"
   ]
  },
  {
   "cell_type": "markdown",
   "id": "e828e4af",
   "metadata": {},
   "source": [
    "# Build CNN Model\n",
    "\n",
    "A Convolutional Neural Network (CNN) is defined with multiple convolutional, pooling, and dense layers.\n"
   ]
  },
  {
   "cell_type": "code",
   "execution_count": null,
   "id": "e8c1ec49",
   "metadata": {},
   "outputs": [],
   "source": [
    "model = models.Sequential([\n",
    "    layers.Conv2D(32, (3, 3), activation='relu', padding='same', input_shape=(32, 32, 3)),\n",
    "    layers.MaxPooling2D((2, 2)),\n",
    "\n",
    "    layers.Conv2D(64, (3, 3), activation='relu', padding='same'),\n",
    "    layers.MaxPooling2D((2, 2)),\n",
    "\n",
    "    layers.Conv2D(128, (3, 3), activation='relu', padding='same'),\n",
    "    layers.MaxPooling2D((2, 2)),\n",
    "\n",
    "    layers.Flatten(),\n",
    "    layers.Dense(128, activation='relu'),\n",
    "    layers.Dense(10, activation='softmax')  # 10 فئات للإخراج\n",
    "])\n",
    "\n",
    "model.compile(optimizer='adam',\n",
    "              loss='sparse_categorical_crossentropy',\n",
    "              metrics=['accuracy'])\n",
    "\n",
    "model.summary()\n"
   ]
  },
  {
   "cell_type": "markdown",
   "id": "d8543614",
   "metadata": {},
   "source": [
    "# Train the Model\n",
    "\n",
    "The model is trained on the training dataset for 10 epochs.\n"
   ]
  },
  {
   "cell_type": "code",
   "execution_count": null,
   "id": "aed94f8d",
   "metadata": {},
   "outputs": [],
   "source": [
    "model.fit(x_train,y_train,epochs=10)"
   ]
  },
  {
   "cell_type": "markdown",
   "id": "a8430f30",
   "metadata": {},
   "source": [
    "# Evaluate Model Performance\n",
    "\n",
    "The model's predictions are evaluated using metrics like classification report and confusion matrix.\n"
   ]
  },
  {
   "cell_type": "code",
   "execution_count": null,
   "id": "14add40a",
   "metadata": {},
   "outputs": [],
   "source": [
    "from sklearn.metrics import classification_report,confusion_matrix"
   ]
  },
  {
   "cell_type": "code",
   "execution_count": null,
   "id": "b11f1d8a",
   "metadata": {},
   "outputs": [],
   "source": [
    "y_pred=model.predict(x_test)\n",
    "y_prediction=[np.argmax(i) for i in y_pred]\n"
   ]
  },
  {
   "cell_type": "code",
   "execution_count": null,
   "id": "d10c669c",
   "metadata": {},
   "outputs": [],
   "source": [
    "classification_report(y_test,y_prediction)"
   ]
  },
  {
   "cell_type": "code",
   "execution_count": null,
   "id": "c74f36ce",
   "metadata": {},
   "outputs": [],
   "source": [
    "model.evaluate(x_test,y_test)"
   ]
  },
  {
   "cell_type": "code",
   "execution_count": null,
   "id": "e0dbf92b",
   "metadata": {},
   "outputs": [],
   "source": [
    "cm=confusion_matrix(y_test,y_prediction)\n",
    "cm"
   ]
  },
  {
   "cell_type": "markdown",
   "id": "a5c89bad",
   "metadata": {},
   "source": [
    "# Visualize Confusion Matrix\n",
    "\n",
    "A heatmap is generated to visualize the confusion matrix for the model's predictions.\n"
   ]
  },
  {
   "cell_type": "code",
   "execution_count": null,
   "id": "529478cf",
   "metadata": {},
   "outputs": [],
   "source": [
    "plt.figure(figsize=(14,7))\n",
    "sns.heatmap(cm,annot=True,cmap='Set2')\n",
    "plt.xlabel('actual values')\n",
    "plt.ylabel('predictions values')\n",
    "plt.show()"
   ]
  },
  {
   "cell_type": "markdown",
   "id": "9ba53048",
   "metadata": {},
   "source": [
    "# Compare Predictions with Ground Truth\n",
    "\n",
    "The first few predictions are compared with the actual labels to verify the model's performance.\n"
   ]
  },
  {
   "cell_type": "code",
   "execution_count": null,
   "id": "bcac9dbd",
   "metadata": {},
   "outputs": [],
   "source": [
    "y_prediction[:8]"
   ]
  },
  {
   "cell_type": "code",
   "execution_count": null,
   "id": "de1f9d28",
   "metadata": {},
   "outputs": [],
   "source": [
    "y_test[:8]"
   ]
  },
  {
   "cell_type": "code",
   "execution_count": null,
   "id": "ffd8f468",
   "metadata": {},
   "outputs": [],
   "source": [
    "show_image(x_test,y_test,7)"
   ]
  },
  {
   "cell_type": "markdown",
   "id": "07a0db34",
   "metadata": {},
   "source": [
    "# Save the Model\n",
    "\n",
    "The trained model is saved to a file for later use in the Flask application.\n"
   ]
  },
  {
   "cell_type": "code",
   "execution_count": null,
   "id": "89fc596e",
   "metadata": {},
   "outputs": [],
   "source": [
    "model.save('../app/model/cnn_model.keras')"
   ]
  }
 ],
 "metadata": {
  "kernelspec": {
   "display_name": "Python 3",
   "language": "python",
   "name": "python3"
  },
  "language_info": {
   "codemirror_mode": {
    "name": "ipython",
    "version": 3
   },
   "file_extension": ".py",
   "mimetype": "text/x-python",
   "name": "python",
   "nbconvert_exporter": "python",
   "pygments_lexer": "ipython3",
   "version": "3.12.9"
  }
 },
 "nbformat": 4,
 "nbformat_minor": 5
}
